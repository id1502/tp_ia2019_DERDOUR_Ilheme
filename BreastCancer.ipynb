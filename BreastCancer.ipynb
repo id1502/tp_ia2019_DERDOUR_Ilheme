{
  "nbformat": 4,
  "nbformat_minor": 0,
  "metadata": {
    "colab": {
      "name": "BreastCancer.ipynb",
      "provenance": []
    },
    "kernelspec": {
      "name": "python3",
      "display_name": "Python 3"
    }
  },
  "cells": [
    {
      "cell_type": "markdown",
      "metadata": {
        "id": "J1mB-3IIlm7R",
        "colab_type": "text"
      },
      "source": [
        "Description: this program predicts malignant and benign cancer cells of breast based off of data. "
      ]
    }
  ]
}