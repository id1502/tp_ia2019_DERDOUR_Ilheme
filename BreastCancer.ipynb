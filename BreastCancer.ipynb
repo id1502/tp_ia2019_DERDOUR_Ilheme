{
  "nbformat": 4,
  "nbformat_minor": 0,
  "metadata": {
    "colab": {
      "name": "BreastCancer.ipynb",
      "provenance": []
    },
    "kernelspec": {
      "name": "python3",
      "display_name": "Python 3"
    }
  },
  "cells": [
    {
      "cell_type": "markdown",
      "metadata": {
        "id": "J1mB-3IIlm7R",
        "colab_type": "text"
      },
      "source": [
        "Description: this program predicts malignant and benign cancer cells of breast based off of data. "
      ]
    },
    {
      "cell_type": "code",
      "metadata": {
        "id": "2BnY8bxbrTJh",
        "colab_type": "code",
        "colab": {}
      },
      "source": [
        "#import libraries\n",
        "import numpy as np\n",
        "import pandas as pd\n",
        "import matplotlib.pyplot as plt\n",
        "import seaborn as sns"
      ],
      "execution_count": 0,
      "outputs": []
    },
    {
      "cell_type": "code",
      "metadata": {
        "id": "3Er21TueKb7i",
        "colab_type": "code",
        "colab": {
          "base_uri": "https://localhost:8080/",
          "height": 35
        },
        "outputId": "b29ffc27-91e3-4eb6-f2f7-ed44fa23cd7e"
      },
      "source": [
        "#Load the data\n",
        "from google.colab import files # Use to load data on Google Colab \n",
        "#uploaded = files.upload() # Use to load data on Google Colab from your device\n",
        "df = pd.read_csv('breastCancer.csv') \n",
        "df.shape "
      ],
      "execution_count": 9,
      "outputs": [
        {
          "output_type": "execute_result",
          "data": {
            "text/plain": [
              "(699, 11)"
            ]
          },
          "metadata": {
            "tags": []
          },
          "execution_count": 9
        }
      ]
    }
  ]
}